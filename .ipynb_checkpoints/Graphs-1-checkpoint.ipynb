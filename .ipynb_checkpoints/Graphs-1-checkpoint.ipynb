{
  "nbformat": 4,
  "nbformat_minor": 0,
  "metadata": {
    "kernelspec": {
      "display_name": "Python 3",
      "language": "python",
      "name": "python3"
    },
    "language_info": {
      "codemirror_mode": {
        "name": "ipython",
        "version": 3
      },
      "file_extension": ".py",
      "mimetype": "text/x-python",
      "name": "python",
      "nbconvert_exporter": "python",
      "pygments_lexer": "ipython3",
      "version": "3.6.2"
    },
    "latex_envs": {
      "LaTeX_envs_menu_present": true,
      "autoclose": false,
      "autocomplete": true,
      "bibliofile": "biblio.bib",
      "cite_by": "apalike",
      "current_citInitial": 1,
      "eqLabelWithNumbers": true,
      "eqNumInitial": 1,
      "hotkeys": {
        "equation": "Ctrl-E",
        "itemize": "Ctrl-I"
      },
      "labels_anchors": false,
      "latex_user_defs": false,
      "report_style_numbering": false,
      "user_envs_cfg": false
    },
    "colab": {
      "name": "Graphs-1-checkpoint.ipynb",
      "provenance": []
    }
  },
  "cells": [
    {
      "cell_type": "markdown",
      "metadata": {
        "id": "KNtYp0CG_U5c"
      },
      "source": [
        "### Class Node"
      ]
    },
    {
      "cell_type": "code",
      "metadata": {
        "id": "clQGGaSy_U5g"
      },
      "source": [
        "class Node (object):\n",
        "    def __init__(self,name):\n",
        "        self.name=name\n",
        "        \n",
        "    def getName(self):\n",
        "        return (self.name)\n",
        "    \n",
        "    def __str__(self):\n",
        "        return (self.name)"
      ],
      "execution_count": 1,
      "outputs": []
    },
    {
      "cell_type": "markdown",
      "metadata": {
        "id": "AdUuP4nX_U5h"
      },
      "source": [
        "### Class Edge"
      ]
    },
    {
      "cell_type": "code",
      "metadata": {
        "id": "3yvPlCEA_U5i"
      },
      "source": [
        "class Edge (object):\n",
        "    def __init__(self,src,dest):\n",
        "        self.src=src\n",
        "        self.dest=dest\n",
        "    \n",
        "    def getSource(self):\n",
        "        return (self.src)\n",
        "    \n",
        "    def getDest(self):\n",
        "        return (self.dest)\n",
        "    \n",
        "    def __str__(self):\n",
        "        return (self.src.getName()+\"->\"+self.dest.getName())"
      ],
      "execution_count": 2,
      "outputs": []
    },
    {
      "cell_type": "markdown",
      "metadata": {
        "id": "SXI4fa8T_U5i"
      },
      "source": [
        "### Class Digraph"
      ]
    },
    {
      "cell_type": "code",
      "metadata": {
        "id": "7QUHcqXh_U5i"
      },
      "source": [
        "class Digraph(object):\n",
        "    def __init__(self):\n",
        "        self.edges={}\n",
        "        \n",
        "    def addNode(self,node):\n",
        "        if node in self.edges:\n",
        "            raise ValueError(\"Duplicate node\")\n",
        "        else:\n",
        "            self.edges[node]=[]\n",
        "            print(f\"{node.getName()} added to the graph\")\n",
        "    \n",
        "    def addEdge(self,edge):\n",
        "        src=edge.getSource()\n",
        "        print(src)\n",
        "        dest=edge.getDest()\n",
        "        print(dest)\n",
        "        if not (src in self.edges and dest in self.edges):\n",
        "            raise ValueError(\"Node not in graph\")\n",
        "        else:\n",
        "            self.edges[src].append(dest) # Builds adjacency list\n",
        "    \n",
        "    def childrenOf(self,node):\n",
        "        return self.edges[node]\n",
        "    \n",
        "    def hasNode(self,node):\n",
        "        return node in self.edges\n",
        "    \n",
        "    def getNode(self,name):\n",
        "        for n in self.edges:\n",
        "            if n.getName()==name:\n",
        "                return n\n",
        "        raise NameError(name)\n",
        "    \n",
        "    def __str__(self):\n",
        "        toPrint=''\n",
        "        for src in self.edges:\n",
        "            for dest in self.edges[src]:\n",
        "                toPrint=toPrint+src.getName()+\"->\"+dest.getName()+\"\\n\"\n",
        "                    \n",
        "        if (toPrint==''):\n",
        "            return (\"Empty graph! Nothing to print\")\n",
        "        else:\n",
        "            return toPrint[:-1]"
      ],
      "execution_count": 3,
      "outputs": []
    },
    {
      "cell_type": "code",
      "metadata": {
        "id": "hBDSfP_5_U5j"
      },
      "source": [
        "cities=['Chicago','Boston','New York','Salt Lake City','SFO','Seattle']"
      ],
      "execution_count": 4,
      "outputs": []
    },
    {
      "cell_type": "code",
      "metadata": {
        "id": "alLV64JP_U5k"
      },
      "source": [
        "g=Digraph()"
      ],
      "execution_count": 6,
      "outputs": []
    },
    {
      "cell_type": "code",
      "metadata": {
        "id": "hEzU281e_U5k"
      },
      "source": [
        "nodes=[]\n",
        "for c in cities:\n",
        "    nodes.append(Node(c))"
      ],
      "execution_count": 7,
      "outputs": []
    },
    {
      "cell_type": "code",
      "metadata": {
        "id": "MWL5AldA_U5l",
        "outputId": "6805fa8d-3397-44b0-e0b9-0206fac868e1",
        "colab": {
          "base_uri": "https://localhost:8080/"
        }
      },
      "source": [
        "g.edges"
      ],
      "execution_count": 8,
      "outputs": [
        {
          "output_type": "execute_result",
          "data": {
            "text/plain": [
              "{}"
            ]
          },
          "metadata": {},
          "execution_count": 8
        }
      ]
    },
    {
      "cell_type": "code",
      "metadata": {
        "id": "p8RUixkL_U5m",
        "outputId": "4d944af6-b80e-403d-9b2c-c0f1a5532374",
        "colab": {
          "base_uri": "https://localhost:8080/"
        }
      },
      "source": [
        "for n in nodes:\n",
        "    g.addNode(n)"
      ],
      "execution_count": 9,
      "outputs": [
        {
          "output_type": "stream",
          "name": "stdout",
          "text": [
            "Chicago added to the graph\n",
            "Boston added to the graph\n",
            "New York added to the graph\n",
            "Salt Lake City added to the graph\n",
            "SFO added to the graph\n",
            "Seattle added to the graph\n"
          ]
        }
      ]
    },
    {
      "cell_type": "code",
      "metadata": {
        "id": "dAzhZExF_U5m",
        "outputId": "44e077f4-f9fb-4d8a-fceb-c7059a8fe71c",
        "colab": {
          "base_uri": "https://localhost:8080/"
        }
      },
      "source": [
        "g.edges"
      ],
      "execution_count": 10,
      "outputs": [
        {
          "output_type": "execute_result",
          "data": {
            "text/plain": [
              "{<__main__.Node at 0x7fc66baf09d0>: [],\n",
              " <__main__.Node at 0x7fc66baf0910>: [],\n",
              " <__main__.Node at 0x7fc66baf0690>: [],\n",
              " <__main__.Node at 0x7fc66baf0610>: [],\n",
              " <__main__.Node at 0x7fc66baf0890>: [],\n",
              " <__main__.Node at 0x7fc66bb01ad0>: []}"
            ]
          },
          "metadata": {},
          "execution_count": 10
        }
      ]
    },
    {
      "cell_type": "code",
      "metadata": {
        "id": "MuSQtOLG_U5m",
        "outputId": "7ed305d6-2f42-47b5-dab5-50c4aabb735b",
        "colab": {
          "base_uri": "https://localhost:8080/"
        }
      },
      "source": [
        "for k in g.edges:\n",
        "    print(k)"
      ],
      "execution_count": 11,
      "outputs": [
        {
          "output_type": "stream",
          "name": "stdout",
          "text": [
            "Chicago\n",
            "Boston\n",
            "New York\n",
            "Salt Lake City\n",
            "SFO\n",
            "Seattle\n"
          ]
        }
      ]
    },
    {
      "cell_type": "code",
      "metadata": {
        "id": "x7_9Ghu7_U5n",
        "outputId": "2b03d00e-9a5d-471d-9e4e-abaa503b9285",
        "colab": {
          "base_uri": "https://localhost:8080/"
        }
      },
      "source": [
        "nodes[1]"
      ],
      "execution_count": 12,
      "outputs": [
        {
          "output_type": "execute_result",
          "data": {
            "text/plain": [
              "<__main__.Node at 0x7fc66baf09d0>"
            ]
          },
          "metadata": {},
          "execution_count": 12
        }
      ]
    },
    {
      "cell_type": "code",
      "metadata": {
        "id": "8IEnHXTi_U5n"
      },
      "source": [
        "edge_chicago_boston=Edge(nodes[0],nodes[1])"
      ],
      "execution_count": 13,
      "outputs": []
    },
    {
      "cell_type": "code",
      "metadata": {
        "id": "1a_RQLgF_U5n",
        "outputId": "19d7337a-4e0d-496d-ba35-6e32aec5b4be",
        "colab": {
          "base_uri": "https://localhost:8080/"
        }
      },
      "source": [
        "edge_chicago_boston.getSource()"
      ],
      "execution_count": 14,
      "outputs": [
        {
          "output_type": "execute_result",
          "data": {
            "text/plain": [
              "<__main__.Node at 0x7fc66baf0910>"
            ]
          },
          "metadata": {},
          "execution_count": 14
        }
      ]
    },
    {
      "cell_type": "code",
      "metadata": {
        "id": "tgmCBSqY_U5o",
        "outputId": "7bb3587a-2c71-4bd0-90fa-9f38b4ae3707",
        "colab": {
          "base_uri": "https://localhost:8080/"
        }
      },
      "source": [
        "g.hasNode(nodes[2])"
      ],
      "execution_count": 15,
      "outputs": [
        {
          "output_type": "execute_result",
          "data": {
            "text/plain": [
              "True"
            ]
          },
          "metadata": {},
          "execution_count": 15
        }
      ]
    },
    {
      "cell_type": "code",
      "metadata": {
        "id": "pYFmCNy8_U5o",
        "outputId": "2d98d810-8532-4c43-9fd0-18b888dc23ef",
        "colab": {
          "base_uri": "https://localhost:8080/"
        }
      },
      "source": [
        "g.getNode('SFO')"
      ],
      "execution_count": 16,
      "outputs": [
        {
          "output_type": "execute_result",
          "data": {
            "text/plain": [
              "<__main__.Node at 0x7fc66baf0610>"
            ]
          },
          "metadata": {},
          "execution_count": 16
        }
      ]
    },
    {
      "cell_type": "code",
      "metadata": {
        "id": "OcyxiN0n_U5o"
      },
      "source": [
        "from graphviz import Graph\n",
        "dot=Graph(\"Roundtable\")"
      ],
      "execution_count": 17,
      "outputs": []
    },
    {
      "cell_type": "code",
      "metadata": {
        "id": "q2ky5oMS_U5o"
      },
      "source": [
        "dot.node('A', 'King Arthur')\n",
        "dot.node('B', 'Sir Bedevere the Wise')\n",
        "dot.node('L', 'Sir Lancelot the Brave')"
      ],
      "execution_count": 18,
      "outputs": []
    },
    {
      "cell_type": "code",
      "metadata": {
        "id": "NT9SeOgE_U5o"
      },
      "source": [
        "dot.edges(['AB', 'AL'])"
      ],
      "execution_count": 19,
      "outputs": []
    },
    {
      "cell_type": "code",
      "metadata": {
        "id": "CnclVSeq_U5p",
        "outputId": "98c4ee09-8c43-4302-8230-3b82deaded2a",
        "colab": {
          "base_uri": "https://localhost:8080/"
        }
      },
      "source": [
        " print(dot.source)"
      ],
      "execution_count": 20,
      "outputs": [
        {
          "output_type": "stream",
          "name": "stdout",
          "text": [
            "graph Roundtable {\n",
            "\tA [label=\"King Arthur\"]\n",
            "\tB [label=\"Sir Bedevere the Wise\"]\n",
            "\tL [label=\"Sir Lancelot the Brave\"]\n",
            "\tA -- B\n",
            "\tA -- L\n",
            "}\n"
          ]
        }
      ]
    },
    {
      "cell_type": "code",
      "metadata": {
        "id": "G7d8KUBL_U5p"
      },
      "source": [
        "import os\n",
        "os.environ[\"PATH\"] += os.pathsep + \"C:\\\\Program Files (x86)\\\\Graphviz2.38\\\\bin\\\\\""
      ],
      "execution_count": 21,
      "outputs": []
    },
    {
      "cell_type": "code",
      "metadata": {
        "id": "uwZW6xG1_U5p",
        "outputId": "ccf076e9-11e8-41da-bb38-a74632bbe57b",
        "colab": {
          "base_uri": "https://localhost:8080/",
          "height": 35
        }
      },
      "source": [
        "dot.render(view=True,cleanup=True)"
      ],
      "execution_count": 22,
      "outputs": [
        {
          "output_type": "execute_result",
          "data": {
            "application/vnd.google.colaboratory.intrinsic+json": {
              "type": "string"
            },
            "text/plain": [
              "'Roundtable.gv.pdf'"
            ]
          },
          "metadata": {},
          "execution_count": 22
        }
      ]
    },
    {
      "cell_type": "code",
      "metadata": {
        "id": "H5E0Ebid_U5p",
        "outputId": "cfe4fed2-83c2-48cc-ee45-10e5f387bd6a",
        "colab": {
          "base_uri": "https://localhost:8080/",
          "height": 35
        }
      },
      "source": [
        "dot.view()"
      ],
      "execution_count": 23,
      "outputs": [
        {
          "output_type": "execute_result",
          "data": {
            "application/vnd.google.colaboratory.intrinsic+json": {
              "type": "string"
            },
            "text/plain": [
              "'Roundtable.gv.pdf'"
            ]
          },
          "metadata": {},
          "execution_count": 23
        }
      ]
    },
    {
      "cell_type": "code",
      "metadata": {
        "id": "REBhjoWC_U5q",
        "outputId": "518c53a6-2c4c-4288-f725-323bfd6e5df1",
        "colab": {
          "base_uri": "https://localhost:8080/",
          "height": 176
        }
      },
      "source": [
        "dot"
      ],
      "execution_count": 24,
      "outputs": [
        {
          "output_type": "execute_result",
          "data": {
            "text/plain": [
              "<graphviz.dot.Graph at 0x7fc671be1450>"
            ],
            "image/svg+xml": "<?xml version=\"1.0\" encoding=\"UTF-8\" standalone=\"no\"?>\n<!DOCTYPE svg PUBLIC \"-//W3C//DTD SVG 1.1//EN\"\n \"http://www.w3.org/Graphics/SVG/1.1/DTD/svg11.dtd\">\n<!-- Generated by graphviz version 2.40.1 (20161225.0304)\n -->\n<!-- Title: Roundtable Pages: 1 -->\n<svg width=\"400pt\" height=\"116pt\"\n viewBox=\"0.00 0.00 400.18 116.00\" xmlns=\"http://www.w3.org/2000/svg\" xmlns:xlink=\"http://www.w3.org/1999/xlink\">\n<g id=\"graph0\" class=\"graph\" transform=\"scale(1 1) rotate(0) translate(4 112)\">\n<title>Roundtable</title>\n<polygon fill=\"#ffffff\" stroke=\"transparent\" points=\"-4,4 -4,-112 396.1834,-112 396.1834,4 -4,4\"/>\n<!-- A -->\n<g id=\"node1\" class=\"node\">\n<title>A</title>\n<ellipse fill=\"none\" stroke=\"#000000\" cx=\"194.9418\" cy=\"-90\" rx=\"56.59\" ry=\"18\"/>\n<text text-anchor=\"middle\" x=\"194.9418\" y=\"-86.3\" font-family=\"Times,serif\" font-size=\"14.00\" fill=\"#000000\">King Arthur</text>\n</g>\n<!-- B -->\n<g id=\"node2\" class=\"node\">\n<title>B</title>\n<ellipse fill=\"none\" stroke=\"#000000\" cx=\"92.9418\" cy=\"-18\" rx=\"92.8835\" ry=\"18\"/>\n<text text-anchor=\"middle\" x=\"92.9418\" y=\"-14.3\" font-family=\"Times,serif\" font-size=\"14.00\" fill=\"#000000\">Sir Bedevere the Wise</text>\n</g>\n<!-- A&#45;&#45;B -->\n<g id=\"edge1\" class=\"edge\">\n<title>A&#45;&#45;B</title>\n<path fill=\"none\" stroke=\"#000000\" d=\"M171.5409,-73.4817C155.4253,-62.106 134.0482,-47.0163 117.6565,-35.4457\"/>\n</g>\n<!-- L -->\n<g id=\"node3\" class=\"node\">\n<title>L</title>\n<ellipse fill=\"none\" stroke=\"#000000\" cx=\"297.9418\" cy=\"-18\" rx=\"94.4839\" ry=\"18\"/>\n<text text-anchor=\"middle\" x=\"297.9418\" y=\"-14.3\" font-family=\"Times,serif\" font-size=\"14.00\" fill=\"#000000\">Sir Lancelot the Brave</text>\n</g>\n<!-- A&#45;&#45;L -->\n<g id=\"edge2\" class=\"edge\">\n<title>A&#45;&#45;L</title>\n<path fill=\"none\" stroke=\"#000000\" d=\"M218.572,-73.4817C234.8457,-62.106 256.4323,-47.0163 272.9847,-35.4457\"/>\n</g>\n</g>\n</svg>\n"
          },
          "metadata": {},
          "execution_count": 24
        }
      ]
    },
    {
      "cell_type": "code",
      "metadata": {
        "id": "PMcv2kPZ_U5q",
        "outputId": "d8df4fa9-b742-4d56-88ab-259f101c81e2",
        "colab": {
          "base_uri": "https://localhost:8080/"
        }
      },
      "source": [
        "print(dot.view())"
      ],
      "execution_count": 25,
      "outputs": [
        {
          "output_type": "stream",
          "name": "stdout",
          "text": [
            "Roundtable.gv.pdf\n"
          ]
        }
      ]
    },
    {
      "cell_type": "code",
      "metadata": {
        "id": "Lslw0HUG_U5q"
      },
      "source": [
        ""
      ],
      "execution_count": null,
      "outputs": []
    }
  ]
}